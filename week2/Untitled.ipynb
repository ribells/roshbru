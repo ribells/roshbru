{
 "cells": [
  {
   "cell_type": "code",
   "execution_count": 4,
   "id": "424f676a",
   "metadata": {},
   "outputs": [
    {
     "name": "stdout",
     "output_type": "stream",
     "text": [
      "Nose tip:\n",
      "x: 0.328387022\n",
      "y: 0.183725268\n",
      "\n"
     ]
    }
   ],
   "source": [
    "import cv2\n",
    "import mediapipe as mp\n",
    "\n",
    "# Initialize the face detection and drawing utilities\n",
    "mp_face_detection = mp.solutions.face_detection\n",
    "mp_drawing = mp.solutions.drawing_utils\n",
    "\n",
    "# List of image files to process\n",
    "IMAGE_FILES = [r'C:\\Users\\rosha\\OneDrive\\Desktop\\python\\roshbru-main\\week1\\img1.jpg']\n",
    "# Set up the face detection model\n",
    "with mp_face_detection.FaceDetection(model_selection=1, min_detection_confidence=0.5) as face_detection:\n",
    "    # Loop through each image file\n",
    "    for idx, file in enumerate(IMAGE_FILES):\n",
    "        # Read the image\n",
    "        image = cv2.imread(file)\n",
    "        # Convert the BGR image to RGB and process it with MediaPipe Face Detection\n",
    "        results = face_detection.process(cv2.cvtColor(image, cv2.COLOR_BGR2RGB))\n",
    "\n",
    "        # If no faces are detected, continue to the next image\n",
    "        if not results.detections:\n",
    "            continue\n",
    "        \n",
    "        # Create a copy of the image for annotations\n",
    "        annotated_image = image.copy()\n",
    "        \n",
    "        # Loop through each detected face\n",
    "        for detection in results.detections:\n",
    "            # Print the nose tip coordinates\n",
    "            print('Nose tip:')\n",
    "            print(mp_face_detection.get_key_point(\n",
    "                detection, mp_face_detection.FaceKeyPoint.NOSE_TIP))\n",
    "            # Draw the detection annotations on the image\n",
    "            mp_drawing.draw_detection(annotated_image, detection)\n",
    "        \n",
    "        # Save the annotated image to a file\n",
    "        output_file = 'tmp/annotated_image' + str(idx) + '.png'\n",
    "        cv2.imwrite(output_file, annotated_image)"
   ]
  },
  {
   "cell_type": "code",
   "execution_count": null,
   "id": "a5d056a9",
   "metadata": {},
   "outputs": [],
   "source": []
  },
  {
   "cell_type": "code",
   "execution_count": null,
   "id": "0e8b5fbc",
   "metadata": {},
   "outputs": [],
   "source": []
  }
 ],
 "metadata": {
  "kernelspec": {
   "display_name": "Python 3 (ipykernel)",
   "language": "python",
   "name": "python3"
  },
  "language_info": {
   "codemirror_mode": {
    "name": "ipython",
    "version": 3
   },
   "file_extension": ".py",
   "mimetype": "text/x-python",
   "name": "python",
   "nbconvert_exporter": "python",
   "pygments_lexer": "ipython3",
   "version": "3.11.9"
  }
 },
 "nbformat": 4,
 "nbformat_minor": 5
}
