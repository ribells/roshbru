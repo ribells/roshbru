{
 "cells": [
  {
   "cell_type": "markdown",
   "metadata": {
    "id": "h2q27gKz1H20"
   },
   "source": [
    "##### Copyright 2023 The MediaPipe Authors. All Rights Reserved."
   ]
  },
  {
   "cell_type": "markdown",
   "metadata": {},
   "source": [
    "# 1. Simple example of facial detection during live video stream\n",
    "\n",
    "This next two cells show you how to use MediaPipe Tasks Python API to detect facial components in a video stream."
   ]
  },
  {
   "cell_type": "code",
   "execution_count": 25,
   "metadata": {},
   "outputs": [
    {
     "name": "stderr",
     "output_type": "stream",
     "text": [
      "INFO: Created TensorFlow Lite XNNPACK delegate for CPU.\n"
     ]
    }
   ],
   "source": [
    "import cv2\n",
    "import mediapipe as mp\n",
    "mp_face_detection = mp.solutions.face_detection\n",
    "mp_drawing = mp.solutions.drawing_utils\n",
    "\n",
    "# For static images:\n",
    "IMAGE_FILES = []\n",
    "with mp_face_detection.FaceDetection(\n",
    "    model_selection=1, min_detection_confidence=0.5) as face_detection:\n",
    "  for idx, file in enumerate(IMAGE_FILES):\n",
    "    image = cv2.imread(file)\n",
    "    # Convert the BGR image to RGB and process it with MediaPipe Face Detection.\n",
    "    results = face_detection.process(cv2.cvtColor(image, cv2.COLOR_BGR2RGB))\n",
    "\n",
    "    # Draw face detections of each face.\n",
    "    if not results.detections:\n",
    "      continue\n",
    "    annotated_image = image.copy()\n",
    "    for detection in results.detections:\n",
    "      print('Nose tip:')\n",
    "      print(mp_face_detction.get_key_point(\n",
    "          detection, mp_face_detection.FaceKeyPoint.NOSE_TIP))\n",
    "      mp_drawing.draw_detection(annotated_image, detection)\n",
    "    cv2.imwrite('/tmp/annotated_image' + str(idx) + '.png', annotated_image)\n"
   ]
  },
  {
   "cell_type": "code",
   "execution_count": null,
   "metadata": {},
   "outputs": [],
   "source": [
    "# For webcam input:\n",
    "cap = cv2.VideoCapture(0)\n",
    "with mp_face_detection.FaceDetection(\n",
    "    model_selection=0, min_detection_confidence=0.5) as face_detection:\n",
    "  while cap.isOpened():\n",
    "    success, image = cap.read()\n",
    "    if not success:\n",
    "      print(\"Ignoring empty camera frame.\")\n",
    "      # If loading a video, use 'break' instead of 'continue'.\n",
    "      continue\n",
    "\n",
    "    # To improve performance, optionally mark the image as not writeable to\n",
    "    # pass by reference.\n",
    "    image.flags.writeable = False\n",
    "    image = cv2.cvtColor(image, cv2.COLOR_BGR2RGB)\n",
    "    results = face_detection.process(image)\n",
    "\n",
    "    # Draw the face detection annotations on the image.\n",
    "    image.flags.writeable = True\n",
    "    image = cv2.cvtColor(image, cv2.COLOR_RGB2BGR)\n",
    "    if results.detections:\n",
    "      for detection in results.detections:\n",
    "        mp_drawing.draw_detection(image, detection)\n",
    "    # Flip the image horizontally for a selfie-view display.\n",
    "    cv2.imshow('MediaPipe Face Detection', cv2.flip(image, 1))\n",
    "    if cv2.waitKey(5) & 0xFF == 27:\n",
    "      break\n",
    "cap.release()"
   ]
  },
  {
   "cell_type": "markdown",
   "metadata": {},
   "source": [
    "# 2. Deep Face Detection with Mediapipe\n",
    "\n",
    "https://sefiks.com/2022/01/14/deep-face-detection-with-mediapipe/"
   ]
  },
  {
   "cell_type": "code",
   "execution_count": null,
   "metadata": {},
   "outputs": [],
   "source": [
    "import mediapipe\n",
    "import cv2\n",
    "\n",
    "#https://www.pexels.com/photo/portrait-photo-of-woman-in-white-crew-neck-shirt-8090149/\n",
    "img = cv2.imread(\"face-example.png\")"
   ]
  },
  {
   "cell_type": "code",
   "execution_count": null,
   "metadata": {},
   "outputs": [],
   "source": [
    "mp_face_detection = mediapipe.solutions.face_detection\n",
    "face_detector =  mp_face_detection.FaceDetection( min_detection_confidence = 0.6)"
   ]
  },
  {
   "cell_type": "code",
   "execution_count": null,
   "metadata": {},
   "outputs": [],
   "source": [
    "results = face_detector.process(img)\n",
    "\n",
    "if results.detections:\n",
    "    for face in results.detections:\n",
    "        confidence = face.score\n",
    "        bounding_box = face.location_data.relative_bounding_box\n",
    "         \n",
    "        x = int(bounding_box.xmin * img.shape[1])\n",
    "        w = int(bounding_box.width * img.shape[1])\n",
    "        y = int(bounding_box.ymin * img.shape[0])\n",
    "        h = int(bounding_box.height * img.shape[0])\n",
    "         \n",
    "        cv2.rectangle(img, (x, y), (x + w, y + h), (255, 255, 255), thickness = 2)"
   ]
  },
  {
   "cell_type": "code",
   "execution_count": null,
   "metadata": {},
   "outputs": [],
   "source": [
    "landmarks = face.location_data.relative_keypoints\n",
    " \n",
    "right_eye = (int(landmarks[0].x * img.shape[1]), int(landmarks[0].y * img.shape[0]))\n",
    "left_eye = (int(landmarks[1].x * img.shape[1]), int(landmarks[1].y * img.shape[0]))\n",
    "nose = (int(landmarks[2].x * img.shape[1]), int(landmarks[2].y * img.shape[0]))\n",
    "mouth = (int(landmarks[3].x * img.shape[1]), int(landmarks[3].y * img.shape[0]))\n",
    "right_ear = (int(landmarks[4].x * img.shape[1]), int(landmarks[4].y * img.shape[0]))\n",
    "left_ear = (int(landmarks[5].x * img.shape[1]), int(landmarks[5].y * img.shape[0]))\n",
    " \n",
    "cv2.circle(img, right_eye, 15, (0, 0, 255), -1)\n",
    "cv2.circle(img, left_eye, 15, (0, 0, 255), -1)\n",
    "cv2.circle(img, nose, 15, (0, 0, 255), -1)\n",
    "cv2.circle(img, mouth, 15, (0, 0, 255), -1)\n",
    "cv2.circle(img, right_ear, 15, (0, 0, 255), -1)\n",
    "cv2.circle(img, left_ear, 15, (0, 0, 255), -1)"
   ]
  },
  {
   "cell_type": "code",
   "execution_count": null,
   "metadata": {},
   "outputs": [],
   "source": [
    "#!pip install deepface"
   ]
  },
  {
   "cell_type": "code",
   "execution_count": null,
   "metadata": {},
   "outputs": [],
   "source": [
    "from deepface import DeepFace\n",
    " \n",
    "#face detection\n",
    "img = DeepFace.detectFace(\"img.jpg\", detector_backend = \"mediapipe\")\n",
    " \n",
    "#face verification\n",
    "obj = DeepFace.verify(img1_path = \"img1.jpg\", img2_path = \"img2.jpg\", detector_backend = \"mediapipe\")\n",
    "print(obj[\"verified\"])\n",
    " \n",
    "#face recognition\n",
    "df = DeepFace.find(img_path = \"img.jpg\", db_path = \"my_db\", detector_backend =  \"mediapipe\")\n",
    "print(df.head())\n",
    " \n",
    "#facial analysis\n",
    "demography = DeepFace.analyze(img_path = \"img4.jpg\", detector_backend =  \"mediapipe\")\n",
    "print(demography)"
   ]
  },
  {
   "cell_type": "markdown",
   "metadata": {
    "id": "L_cQX8dWu4Dv"
   },
   "source": [
    "# 3. Pose Landmarks Detection with MediaPipe Tasks\n",
    "\n",
    "This notebook shows you how to use MediaPipe Tasks Python API to detect pose landmarks from images."
   ]
  },
  {
   "cell_type": "markdown",
   "metadata": {
    "id": "O6PN9FvIx614"
   },
   "source": [
    "## Preparation\n",
    "\n",
    "Let's start with installing MediaPipe.\n"
   ]
  },
  {
   "cell_type": "code",
   "execution_count": 1,
   "metadata": {
    "id": "gxbHBsF-8Y_l"
   },
   "outputs": [],
   "source": [
    "#Note: install successful - only needed to run once\n",
    "#!pip install -q mediapipe"
   ]
  },
  {
   "cell_type": "markdown",
   "metadata": {
    "id": "a49D7h4TVmru"
   },
   "source": [
    "Then download an off-the-shelf model bundle. Check out the [MediaPipe documentation](https://developers.google.com/mediapipe/solutions/vision/pose_landmarker#models) for more information about this model bundle."
   ]
  },
  {
   "cell_type": "code",
   "execution_count": 2,
   "metadata": {
    "id": "OMjuVQiDYJKF"
   },
   "outputs": [],
   "source": [
    "!wget -O pose_landmarker.task -q https://storage.googleapis.com/mediapipe-models/pose_landmarker/pose_landmarker_heavy/float16/1/pose_landmarker_heavy.task"
   ]
  },
  {
   "cell_type": "markdown",
   "metadata": {
    "id": "YYKAJ5nDU8-I"
   },
   "source": [
    "## Visualization utilities"
   ]
  },
  {
   "cell_type": "code",
   "execution_count": 28,
   "metadata": {
    "id": "s3E6NFV-00Qt"
   },
   "outputs": [],
   "source": [
    "#@markdown To better demonstrate the Pose Landmarker API, we have created a set of visualization tools that will be used in this colab. These will draw the landmarks on a detect person, as well as the expected connections between those markers.\n",
    "\n",
    "from mediapipe import solutions\n",
    "from mediapipe.framework.formats import landmark_pb2\n",
    "import numpy as np\n",
    "\n",
    "def draw_landmarks_on_image(rgb_image, detection_result):\n",
    "  pose_landmarks_list = detection_result.pose_landmarks\n",
    "  annotated_image = np.copy(rgb_image)\n",
    "\n",
    "  # Loop through the detected poses to visualize.\n",
    "  for idx in range(len(pose_landmarks_list)):\n",
    "    pose_landmarks = pose_landmarks_list[idx]\n",
    "\n",
    "    # Draw the pose landmarks.\n",
    "    pose_landmarks_proto = landmark_pb2.NormalizedLandmarkList()\n",
    "    pose_landmarks_proto.landmark.extend([\n",
    "      landmark_pb2.NormalizedLandmark(x=landmark.x, y=landmark.y, z=landmark.z) for landmark in pose_landmarks\n",
    "    ])\n",
    "    solutions.drawing_utils.draw_landmarks(\n",
    "      annotated_image,\n",
    "      pose_landmarks_proto,\n",
    "      solutions.pose.POSE_CONNECTIONS,\n",
    "      solutions.drawing_styles.get_default_pose_landmarks_style())\n",
    "  return annotated_image"
   ]
  },
  {
   "cell_type": "markdown",
   "metadata": {
    "id": "83PEJNp9yPBU"
   },
   "source": [
    "## Download test image\n",
    "\n",
    "To demonstrate the Pose Landmarker API, you can download a sample image using the follow code. The image is from [Pixabay](https://pixabay.com/photos/girl-woman-fitness-beautiful-smile-4051811/)."
   ]
  },
  {
   "cell_type": "code",
   "execution_count": 29,
   "metadata": {
    "id": "tzXuqyIBlXer"
   },
   "outputs": [],
   "source": [
    "from PIL import Image\n",
    "import matplotlib.pyplot as plt\n",
    "\n",
    "!wget -q -O image.jpg https://cdn.pixabay.com/photo/2019/03/12/20/39/girl-4051811_960_720.jpg\n",
    "\n",
    "import cv2\n",
    "#from google.colab.patches import cv2_imshow\n",
    "\n",
    "#img = cv2.imread(\"image.jpg\")\n",
    "im = Image.open(\"image.jpg\")\n",
    "px = im.load()\n",
    "im.show()"
   ]
  },
  {
   "cell_type": "markdown",
   "metadata": {
    "id": "u-skLwMBmMN_"
   },
   "source": [
    "Optionally, you can upload your own image. If you want to do so, uncomment and run the cell below."
   ]
  },
  {
   "cell_type": "code",
   "execution_count": null,
   "metadata": {
    "id": "etBjSdwImQPw"
   },
   "outputs": [],
   "source": [
    "# from google.colab import files\n",
    "# uploaded = files.upload()\n",
    "\n",
    "# for filename in uploaded:\n",
    "#   content = uploaded[filename]\n",
    "#   with open(filename, 'wb') as f:\n",
    "#     f.write(content)\n",
    "\n",
    "# if len(uploaded.keys()):\n",
    "#   IMAGE_FILE = next(iter(uploaded))\n",
    "#   print('Uploaded file:', IMAGE_FILE)"
   ]
  },
  {
   "cell_type": "markdown",
   "metadata": {
    "id": "Iy4r2_ePylIa"
   },
   "source": [
    "## Running inference and visualizing the results\n",
    "\n",
    "The final step is to run pose landmark detection on your selected image. This involves creating your PoseLandmarker object, loading your image, running detection, and finally, the optional step of displaying the image with visualizations.\n",
    "\n",
    "Check out the [MediaPipe documentation](https://developers.google.com/mediapipe/solutions/vision/pose_landmarker/python) to learn more about configuration options that this solution supports.\n"
   ]
  },
  {
   "cell_type": "code",
   "execution_count": 24,
   "metadata": {
    "id": "_JVO3rvPD4RN"
   },
   "outputs": [
    {
     "ename": "NameError",
     "evalue": "name 'tasks' is not defined",
     "output_type": "error",
     "traceback": [
      "\u001b[0;31m---------------------------------------------------------------------------\u001b[0m",
      "\u001b[0;31mNameError\u001b[0m                                 Traceback (most recent call last)",
      "Cell \u001b[0;32mIn[24], line 8\u001b[0m\n\u001b[1;32m      6\u001b[0m \u001b[38;5;66;03m# STEP 2: Create an PoseLandmarker object.\u001b[39;00m\n\u001b[1;32m      7\u001b[0m base_options \u001b[38;5;241m=\u001b[39m python\u001b[38;5;241m.\u001b[39mBaseOptions(model_asset_path\u001b[38;5;241m=\u001b[39m\u001b[38;5;124m'\u001b[39m\u001b[38;5;124mpose_landmarker.task\u001b[39m\u001b[38;5;124m'\u001b[39m)\n\u001b[0;32m----> 8\u001b[0m options \u001b[38;5;241m=\u001b[39m \u001b[43mtasks\u001b[49m\u001b[38;5;241m.\u001b[39mcore\u001b[38;5;241m.\u001b[39mPoseLandmarkerOptions(\n\u001b[1;32m      9\u001b[0m     base_options\u001b[38;5;241m=\u001b[39mbase_options,\n\u001b[1;32m     10\u001b[0m     output_segmentation_masks\u001b[38;5;241m=\u001b[39m\u001b[38;5;28;01mTrue\u001b[39;00m)\n\u001b[1;32m     11\u001b[0m detector \u001b[38;5;241m=\u001b[39m vision\u001b[38;5;241m.\u001b[39mPoseLandmarker\u001b[38;5;241m.\u001b[39mcreate_from_options(options)\n\u001b[1;32m     13\u001b[0m \u001b[38;5;66;03m# STEP 3: Load the input image.\u001b[39;00m\n",
      "\u001b[0;31mNameError\u001b[0m: name 'tasks' is not defined"
     ]
    }
   ],
   "source": [
    "# STEP 1: Import the necessary modules.\n",
    "import mediapipe as mp\n",
    "from mediapipe.tasks import python\n",
    "from mediapipe.tasks.python import vision\n",
    "\n",
    "# STEP 2: Create an PoseLandmarker object.\n",
    "base_options = python.BaseOptions(model_asset_path='pose_landmarker.task')\n",
    "options = vision.PoseLandmarkerOptions(\n",
    "    base_options=base_options,\n",
    "    output_segmentation_masks=True)\n",
    "detector = vision.PoseLandmarker.create_from_options(options)\n",
    "\n",
    "# STEP 3: Load the input image.\n",
    "image = mp.Image.create_from_file(\"image.jpg\")\n",
    "\n",
    "# STEP 4: Detect pose landmarks from the input image.\n",
    "detection_result = detector.detect(image)\n",
    "\n",
    "# STEP 5: Process the detection result. In this case, visualize it.\n",
    "annotated_image = draw_landmarks_on_image(image.numpy_view(), detection_result)\n",
    "cv2_imshow(cv2.cvtColor(annotated_image, cv2.COLOR_RGB2BGR))"
   ]
  },
  {
   "cell_type": "markdown",
   "metadata": {
    "id": "_BwzFvaxwtPX"
   },
   "source": [
    "Visualize the pose segmentation mask."
   ]
  },
  {
   "cell_type": "code",
   "execution_count": null,
   "metadata": {
    "id": "3jAIFzw9M3JJ"
   },
   "outputs": [],
   "source": [
    "segmentation_mask = detection_result.segmentation_masks[0].numpy_view()\n",
    "visualized_mask = np.repeat(segmentation_mask[:, :, np.newaxis], 3, axis=2) * 255\n",
    "cv2_imshow(visualized_mask)"
   ]
  },
  {
   "cell_type": "code",
   "execution_count": null,
   "metadata": {},
   "outputs": [
    {
     "name": "stdout",
     "output_type": "stream",
     "text": [
      "Collecting deepface\n",
      "  Using cached deepface-0.0.92-py3-none-any.whl (105 kB)\n",
      "Requirement already satisfied: pandas>=0.23.4 in /Users/ribells/anaconda3/lib/python3.10/site-packages (from deepface) (2.1.4)\n",
      "Collecting retina-face>=0.0.1\n",
      "  Using cached retina_face-0.0.17-py3-none-any.whl (25 kB)\n",
      "Requirement already satisfied: requests>=2.27.1 in /Users/ribells/anaconda3/lib/python3.10/site-packages (from deepface) (2.31.0)\n",
      "Requirement already satisfied: Pillow>=5.2.0 in /Users/ribells/anaconda3/lib/python3.10/site-packages (from deepface) (9.4.0)\n",
      "Collecting mtcnn>=0.1.0\n",
      "  Using cached mtcnn-0.1.1-py3-none-any.whl (2.3 MB)\n",
      "Collecting opencv-python>=4.5.5.64\n",
      "  Using cached opencv-python-4.10.0.84.tar.gz (95.1 MB)\n",
      "  Installing build dependencies ... \u001b[?25ldone\n",
      "\u001b[?25h  Getting requirements to build wheel ... \u001b[?25ldone\n",
      "\u001b[?25h  Preparing metadata (pyproject.toml) ... \u001b[?25ldone\n",
      "\u001b[?25hCollecting tensorflow>=1.9.0\n",
      "  Using cached tensorflow-2.16.1-cp310-cp310-macosx_10_15_x86_64.whl (259.5 MB)\n",
      "Collecting fire>=0.4.0\n",
      "  Using cached fire-0.6.0-py2.py3-none-any.whl\n",
      "Collecting gdown>=3.10.1\n",
      "  Using cached gdown-5.2.0-py3-none-any.whl (18 kB)\n",
      "Requirement already satisfied: Flask>=1.1.2 in /Users/ribells/anaconda3/lib/python3.10/site-packages (from deepface) (2.2.2)\n",
      "Requirement already satisfied: numpy>=1.14.0 in /Users/ribells/anaconda3/lib/python3.10/site-packages (from deepface) (1.23.5)\n",
      "Requirement already satisfied: tqdm>=4.30.0 in /Users/ribells/anaconda3/lib/python3.10/site-packages (from deepface) (4.64.1)\n",
      "Collecting keras>=2.2.0\n",
      "  Using cached keras-3.3.3-py3-none-any.whl (1.1 MB)\n",
      "Collecting gunicorn>=20.1.0\n",
      "  Using cached gunicorn-22.0.0-py3-none-any.whl (84 kB)\n",
      "Collecting termcolor\n",
      "  Using cached termcolor-2.4.0-py3-none-any.whl (7.7 kB)\n",
      "Requirement already satisfied: six in /Users/ribells/anaconda3/lib/python3.10/site-packages (from fire>=0.4.0->deepface) (1.16.0)\n",
      "Requirement already satisfied: Werkzeug>=2.2.2 in /Users/ribells/anaconda3/lib/python3.10/site-packages (from Flask>=1.1.2->deepface) (2.2.2)\n",
      "Requirement already satisfied: itsdangerous>=2.0 in /Users/ribells/anaconda3/lib/python3.10/site-packages (from Flask>=1.1.2->deepface) (2.0.1)\n",
      "Requirement already satisfied: Jinja2>=3.0 in /Users/ribells/anaconda3/lib/python3.10/site-packages (from Flask>=1.1.2->deepface) (3.1.2)\n",
      "Requirement already satisfied: click>=8.0 in /Users/ribells/anaconda3/lib/python3.10/site-packages (from Flask>=1.1.2->deepface) (8.1.7)\n",
      "Requirement already satisfied: filelock in /Users/ribells/anaconda3/lib/python3.10/site-packages (from gdown>=3.10.1->deepface) (3.9.0)\n",
      "Requirement already satisfied: beautifulsoup4 in /Users/ribells/anaconda3/lib/python3.10/site-packages (from gdown>=3.10.1->deepface) (4.11.1)\n",
      "Requirement already satisfied: packaging in /Users/ribells/anaconda3/lib/python3.10/site-packages (from gunicorn>=20.1.0->deepface) (22.0)\n",
      "Collecting rich\n",
      "  Using cached rich-13.7.1-py3-none-any.whl (240 kB)\n",
      "Requirement already satisfied: h5py in /Users/ribells/anaconda3/lib/python3.10/site-packages (from keras>=2.2.0->deepface) (3.7.0)\n",
      "Collecting ml-dtypes\n",
      "  Using cached ml_dtypes-0.4.0-cp310-cp310-macosx_10_9_universal2.whl (390 kB)\n",
      "Requirement already satisfied: absl-py in /Users/ribells/anaconda3/lib/python3.10/site-packages (from keras>=2.2.0->deepface) (2.1.0)\n",
      "Collecting optree\n",
      "  Using cached optree-0.11.0-cp310-cp310-macosx_10_9_x86_64.whl (295 kB)\n",
      "Collecting namex\n",
      "  Using cached namex-0.0.8-py3-none-any.whl (5.8 kB)\n",
      "Requirement already satisfied: pytz>=2020.1 in /Users/ribells/anaconda3/lib/python3.10/site-packages (from pandas>=0.23.4->deepface) (2022.7)\n",
      "Requirement already satisfied: python-dateutil>=2.8.2 in /Users/ribells/anaconda3/lib/python3.10/site-packages (from pandas>=0.23.4->deepface) (2.8.2)\n",
      "Requirement already satisfied: tzdata>=2022.1 in /Users/ribells/anaconda3/lib/python3.10/site-packages (from pandas>=0.23.4->deepface) (2024.1)\n",
      "Requirement already satisfied: urllib3<3,>=1.21.1 in /Users/ribells/anaconda3/lib/python3.10/site-packages (from requests>=2.27.1->deepface) (1.26.14)\n",
      "Requirement already satisfied: idna<4,>=2.5 in /Users/ribells/anaconda3/lib/python3.10/site-packages (from requests>=2.27.1->deepface) (3.4)\n",
      "Requirement already satisfied: charset-normalizer<4,>=2 in /Users/ribells/anaconda3/lib/python3.10/site-packages (from requests>=2.27.1->deepface) (2.0.4)\n",
      "Requirement already satisfied: certifi>=2017.4.17 in /Users/ribells/anaconda3/lib/python3.10/site-packages (from requests>=2.27.1->deepface) (2023.7.22)\n",
      "Requirement already satisfied: protobuf!=4.21.0,!=4.21.1,!=4.21.2,!=4.21.3,!=4.21.4,!=4.21.5,<5.0.0dev,>=3.20.3 in /Users/ribells/anaconda3/lib/python3.10/site-packages (from tensorflow>=1.9.0->deepface) (3.20.3)\n",
      "Collecting gast!=0.5.0,!=0.5.1,!=0.5.2,>=0.2.1\n",
      "  Using cached gast-0.5.4-py3-none-any.whl (19 kB)\n",
      "Requirement already satisfied: typing-extensions>=3.6.6 in /Users/ribells/anaconda3/lib/python3.10/site-packages (from tensorflow>=1.9.0->deepface) (4.4.0)\n",
      "Collecting ml-dtypes\n",
      "  Using cached ml_dtypes-0.3.2-cp310-cp310-macosx_10_9_universal2.whl (389 kB)\n",
      "Collecting astunparse>=1.6.0\n",
      "  Using cached astunparse-1.6.3-py2.py3-none-any.whl (12 kB)\n",
      "Collecting tensorflow-io-gcs-filesystem>=0.23.1\n",
      "  Using cached tensorflow_io_gcs_filesystem-0.37.0-cp310-cp310-macosx_10_14_x86_64.whl (2.5 MB)\n",
      "Requirement already satisfied: flatbuffers>=23.5.26 in /Users/ribells/anaconda3/lib/python3.10/site-packages (from tensorflow>=1.9.0->deepface) (24.3.25)\n",
      "Collecting h5py\n",
      "  Using cached h5py-3.11.0-cp310-cp310-macosx_10_9_x86_64.whl (3.5 MB)\n",
      "Collecting libclang>=13.0.0\n",
      "  Using cached libclang-18.1.1-py2.py3-none-macosx_10_9_x86_64.whl (26.5 MB)\n",
      "Collecting google-pasta>=0.1.1\n",
      "  Using cached google_pasta-0.2.0-py3-none-any.whl (57 kB)\n",
      "Collecting grpcio<2.0,>=1.24.3\n",
      "  Using cached grpcio-1.64.1.tar.gz (12.2 MB)\n",
      "  Preparing metadata (setup.py) ... \u001b[?25ldone\n",
      "\u001b[?25hRequirement already satisfied: wrapt>=1.11.0 in /Users/ribells/anaconda3/lib/python3.10/site-packages (from tensorflow>=1.9.0->deepface) (1.14.1)\n",
      "Collecting tensorboard<2.17,>=2.16\n",
      "  Using cached tensorboard-2.16.2-py3-none-any.whl (5.5 MB)\n",
      "Requirement already satisfied: setuptools in /Users/ribells/anaconda3/lib/python3.10/site-packages (from tensorflow>=1.9.0->deepface) (65.6.3)\n",
      "Collecting opt-einsum>=2.3.2\n",
      "  Using cached opt_einsum-3.3.0-py3-none-any.whl (65 kB)\n",
      "Requirement already satisfied: wheel<1.0,>=0.23.0 in /Users/ribells/anaconda3/lib/python3.10/site-packages (from astunparse>=1.6.0->tensorflow>=1.9.0->deepface) (0.38.4)\n",
      "Requirement already satisfied: MarkupSafe>=2.0 in /Users/ribells/anaconda3/lib/python3.10/site-packages (from Jinja2>=3.0->Flask>=1.1.2->deepface) (2.1.1)\n",
      "Requirement already satisfied: markdown>=2.6.8 in /Users/ribells/anaconda3/lib/python3.10/site-packages (from tensorboard<2.17,>=2.16->tensorflow>=1.9.0->deepface) (3.4.1)\n",
      "Collecting tensorboard-data-server<0.8.0,>=0.7.0\n",
      "  Using cached tensorboard_data_server-0.7.2-py3-none-macosx_10_9_x86_64.whl (4.8 MB)\n",
      "Requirement already satisfied: soupsieve>1.2 in /Users/ribells/anaconda3/lib/python3.10/site-packages (from beautifulsoup4->gdown>=3.10.1->deepface) (2.3.2.post1)\n",
      "Requirement already satisfied: PySocks!=1.5.7,>=1.5.6 in /Users/ribells/anaconda3/lib/python3.10/site-packages (from requests>=2.27.1->deepface) (1.7.1)\n",
      "Collecting pygments<3.0.0,>=2.13.0\n",
      "  Using cached pygments-2.18.0-py3-none-any.whl (1.2 MB)\n",
      "Collecting markdown-it-py>=2.2.0\n",
      "  Using cached markdown_it_py-3.0.0-py3-none-any.whl (87 kB)\n",
      "Collecting mdurl~=0.1\n",
      "  Using cached mdurl-0.1.2-py3-none-any.whl (10.0 kB)\n",
      "Building wheels for collected packages: opencv-python, grpcio\n",
      "  Building wheel for opencv-python (pyproject.toml) ... \u001b[?25l/"
     ]
    }
   ],
   "source": [
    "!pip install deepface"
   ]
  }
 ],
 "metadata": {
  "colab": {
   "provenance": []
  },
  "kernelspec": {
   "display_name": "Python 3 (ipykernel)",
   "language": "python",
   "name": "python3"
  },
  "language_info": {
   "codemirror_mode": {
    "name": "ipython",
    "version": 3
   },
   "file_extension": ".py",
   "mimetype": "text/x-python",
   "name": "python",
   "nbconvert_exporter": "python",
   "pygments_lexer": "ipython3",
   "version": "3.10.9"
  }
 },
 "nbformat": 4,
 "nbformat_minor": 1
}
